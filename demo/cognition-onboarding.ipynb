{
 "cells": [
  {
   "cell_type": "markdown",
   "metadata": {},
   "source": [
    "# Cognition Roadmap\n",
    "Development will happen in three stages:\n",
    "1. Initial POC (partially deployed to AWS)\n",
    "2. AWS POC (fully deployed to AWS)\n",
    "3. Cognition v0.1\n",
    "\n",
    "## General Concepts\n",
    "Cognition is made up of the following compoments:\n",
    "\n",
    "**1. Grid System:** Used to define a spatially cognizant flat file structure in a cloud datastore for registering images in space and time.  Each grid cell will containing Cloud Optimized GeoTiffs (COG).  The Grid System will ultimately be responsible for data ingest, data storage, data query/lookup, and integrate closely with the STAC catalog.\n",
    "\n",
    "**2. Cloud Optimized GeoTiff (COG):** A COG is a regular GeoTiff file aimed at being hosted on an HTTP file sever with an internal organization that enablse more efficient workflows on the cloud by leveraging the ability of clients to issue HTTP GET range requests to ask for just the parts of a file they need.  Each COG contains tiles and overviews.\n",
    "\n",
    "**3. Spatio-Temporal Asset Catalog (STAC):** STAC aims to standardize the way geospatial ssets are exposed online and queried.  Cognition will be fully STAC complient and will automatically build STAC-compliant catalogs upon ingest and creation of derived products (ex. NDVI mask).\n",
    "\n",
    "**4. Geographic Information System (GIS):** Cognition needs some type of GIS to perform required geoprocessing tasks.  Initially, GDAL will be used to create pipelines of VRT files to effiently process geospatial data.  These operations will later be JSON-serialized (see `vrt-json.ipynb`)\n",
    "\n",
    "## Initial POC\n",
    "\n",
    "The initial POC is focused on proving out the larger concepts behind the architecture.  The goal of the POC is to ingest a series of Landsat-8 ARD swathes (acquired from USGS Earth Explorer) and derive a NDVI vegetation mask.  The POC will include a grid system deployed to S3 which may be used to ingest imagery as Cloud Optimized GeoTiffs (COG).  Please refer to the `cognition-demo.ipynb` notebook for a demo of the Initial POC.\n",
    "\n",
    "## AWS POC\n",
    "The AWS POC will build off the Initial POC and fully deployed to AWS.  The goal of the POC is to ingest expand on the ideas presented on the POC and deploy the architecture to AWS Lambda.\n",
    "\n",
    "## Cognition v0.1\n",
    "Iterate, optimize, the AWS POC etc."
   ]
  },
  {
   "cell_type": "markdown",
   "metadata": {},
   "source": [
    "# First Steps\n",
    "1. Read this notebook and look through `cognition-demo.ipynb` and `vrt-json.ipynb`\n",
    "2. Read through the [Cognition-POC source code](https://github.com/geospatial-jeff/cognition-poc).\n",
    "3. Read through the [Descartes Labs Python Client Library](https://github.com/descarteslabs/descarteslabs-python/tree/master/descarteslabs/client/services).  It is a really great example of a client-side library which passes JSON arguments server side for execution and is fairly similar to what is required for the AWS POC.\n",
    "3. Familiarize yourself with any of the below topics as necessary."
   ]
  },
  {
   "cell_type": "markdown",
   "metadata": {},
   "source": [
    "## COG Resources\n",
    "- [COG Homepage](https://www.cogeo.org/)\n",
    "- [COG Spec](https://trac.osgeo.org/gdal/wiki/CloudOptimizedGeoTIFF)\n",
    "- [A Handy Introduction to Cloud Optimized GeoTiffs](https://medium.com/planet-stories/a-handy-introduction-to-cloud-optimized-geotiffs-1f2c9e716ec3)\n",
    "- [Cloud Optimized GeoTiffs: Enabling Cloud Efficient Workflows](https://www.slideshare.net/EugeneCheipesh/cloud-optimized-geottiffs-enabling-efficient-cloud-workflows?ref=https://cdn.embedly.com/widgets/media.html?src=https%3A%2F%2Fwww.slideshare.net%2Fslideshow%2Fembed_code%2Fkey%2Fm1GPsvClzbiAuU&url=https%3A%2F%2Fwww.slideshare.net%2FEugeneCheipesh%2Fcloud-optimized-geottiffs-enabling-efficient-cloud-workflows&image=https%3A%2F%2Fcdn.slidesharecdn.com%2Fss_thumbnails%2Ffoss4gna2018-cloudoptimizedgeotiffs-180518155909-thumbnail-4.jpg%3Fcb%3D1526659294&key=a19fcc184b9711e1b4764040d3dc5c07&type=text%2Fhtml&schema=slideshare)\n"
   ]
  },
  {
   "cell_type": "markdown",
   "metadata": {},
   "source": [
    "## STAC Resources\n",
    "- [STAC Spec](https://github.com/radiantearth/stac-spec)\n",
    "- [STAC Browser](https://github.com/radiantearth/stac-browser)\n",
    "- [Announcing the SpatioTemporal Asset Catalog](https://medium.com/radiant-earth-insights/announcing-the-spatiotemporal-asset-catalog-stac-specification-1db58820b9cf)\n",
    "- [The Potential of SpatioTemporal Asset Catalogs](https://medium.com/radiant-earth-insights/announcing-the-spatiotemporal-asset-catalog-stac-specification-1db58820b9cf)"
   ]
  },
  {
   "cell_type": "markdown",
   "metadata": {},
   "source": [
    "## ARD Resources\n",
    "- [Analysis Ready Data Defined](https://medium.com/planet-stories/analysis-ready-data-defined-5694f6f48815)\n",
    "- [US Landsat Analysis Ready Data](https://medium.com/radiant-earth-insights/announcing-the-spatiotemporal-asset-catalog-stac-specification-1db58820b9cf)\n",
    "- [CEOS Analysis Ready Data](http://ceos.org/ard/)\n",
    "- [Planet's Framework for Analysis Ready Data](https://www.planet.com/pulse/planets-framework-for-analysis-ready-data/)"
   ]
  },
  {
   "cell_type": "markdown",
   "metadata": {},
   "source": [
    "## GDAL VRT Resources\n",
    "- [GDAL VRT Format Tutorial](https://www.gdal.org/gdal_vrttut.html)\n",
    "- [gdalbuildvrt](https://www.gdal.org/gdalbuildvrt.html)"
   ]
  },
  {
   "cell_type": "markdown",
   "metadata": {},
   "source": [
    "## Geohash Resources\n",
    "- [Geohashes and You](https://mapzen.com/blog/geohashes-and-you/)\n",
    "- [Interactive Geohash Slippy Map](http://mapzen.github.io/leaflet-spatial-prefix-tree/)\n",
    "- [How Geohashes Workj](https://www.factual.com/blog/how-geohashes-work/)\n",
    "- [Geohash Wikipedia Page](https://en.wikipedia.org/wiki/Geohash)"
   ]
  }
 ],
 "metadata": {
  "kernelspec": {
   "display_name": "Python 3",
   "language": "python",
   "name": "python3"
  },
  "language_info": {
   "codemirror_mode": {
    "name": "ipython",
    "version": 3
   },
   "file_extension": ".py",
   "mimetype": "text/x-python",
   "name": "python",
   "nbconvert_exporter": "python",
   "pygments_lexer": "ipython3",
   "version": "3.7.0"
  }
 },
 "nbformat": 4,
 "nbformat_minor": 2
}
